{
 "cells": [
  {
   "cell_type": "code",
   "execution_count": 32,
   "metadata": {},
   "outputs": [
    {
     "name": "stdout",
     "output_type": "stream",
     "text": [
      "Enter the nth term= 8\n",
      "The first 8 terms are: \n",
      "0\n",
      "1\n",
      "1\n",
      "2\n",
      "3\n",
      "5\n",
      "8\n",
      "13\n"
     ]
    }
   ],
   "source": [
    "#fibonacci sequence\n",
    "n=int(input(\"Enter the nth term= \"))\n",
    "a=0\n",
    "b=1\n",
    "if n==2:\n",
    "    print(\"The first two terms are \",a,b)\n",
    "elif n==1:\n",
    "    print(\"The first term is\", a)\n",
    "else:\n",
    "    print(\"The first\",n,\"terms are: \")\n",
    "    print(a)\n",
    "    print(b)\n",
    "    for i in range(2,n):\n",
    "        c=a+b\n",
    "        print(c)\n",
    "        a=b\n",
    "        b=c    "
   ]
  },
  {
   "cell_type": "code",
   "execution_count": 37,
   "metadata": {},
   "outputs": [
    {
     "name": "stdout",
     "output_type": "stream",
     "text": [
      "Enter the number: 153\n",
      "3\n",
      "27\n",
      "15\n",
      "5\n",
      "152\n",
      "1\n",
      "1\n",
      "153\n",
      "0\n",
      "armstrong\n"
     ]
    }
   ],
   "source": [
    "#armstrong number/narcissistic number\n",
    "n=int(input(\"Enter the number: \"))\n",
    "s=0\n",
    "m=n\n",
    "while m>0:\n",
    "    a=m%10\n",
    "    print(a)\n",
    "    s=s+pow(a,3)\n",
    "    print(s)\n",
    "    m=m//10\n",
    "    print(m)\n",
    "if n==s:\n",
    "    print(\"armstrong\")\n",
    "else:\n",
    "    print(\"not an armstrong\")"
   ]
  },
  {
   "cell_type": "code",
   "execution_count": 52,
   "metadata": {},
   "outputs": [
    {
     "name": "stdout",
     "output_type": "stream",
     "text": [
      "Enter lower limit: 100\n",
      "Enter upper limit: 500\n",
      "armstrong 125\n",
      "armstrong 153\n",
      "armstrong 216\n",
      "armstrong 370\n",
      "armstrong 371\n",
      "armstrong 407\n"
     ]
    }
   ],
   "source": [
    "#armstrong numbers in interval\n",
    "l=int(input(\"Enter lower limit: \"))\n",
    "u=int(input(\"Enter upper limit: \"))\n",
    "\n",
    "for i in range(l,u+1):\n",
    "    s=0\n",
    "    m=i\n",
    "    while m>0:\n",
    "        a=m%10\n",
    "        s=s+pow(a,3)\n",
    "        m=m//10\n",
    "        if i==s:\n",
    "            print(\"armstrong\",i)"
   ]
  },
  {
   "cell_type": "code",
   "execution_count": 58,
   "metadata": {},
   "outputs": [
    {
     "name": "stdout",
     "output_type": "stream",
     "text": [
      "Enter the number: 100\n",
      "5050\n"
     ]
    }
   ],
   "source": [
    "#sum of n natural numbers\n",
    "n=int(input(\"Enter the number: \"))\n",
    "s=0\n",
    "if n<0:\n",
    "    print(\"It is a negative number. \")\n",
    "elif n==0:\n",
    "    print(\"0 is a whole number. \")\n",
    "else:\n",
    "    for i in range(1,n+1):\n",
    "        s=s+i\n",
    "    print(s)"
   ]
  },
  {
   "cell_type": "code",
   "execution_count": null,
   "metadata": {},
   "outputs": [],
   "source": []
  }
 ],
 "metadata": {
  "kernelspec": {
   "display_name": "Python 3",
   "language": "python",
   "name": "python3"
  },
  "language_info": {
   "codemirror_mode": {
    "name": "ipython",
    "version": 3
   },
   "file_extension": ".py",
   "mimetype": "text/x-python",
   "name": "python",
   "nbconvert_exporter": "python",
   "pygments_lexer": "ipython3",
   "version": "3.7.6"
  }
 },
 "nbformat": 4,
 "nbformat_minor": 4
}
