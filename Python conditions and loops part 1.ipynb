{
 "cells": [
  {
   "cell_type": "code",
   "execution_count": 4,
   "metadata": {},
   "outputs": [
    {
     "name": "stdout",
     "output_type": "stream",
     "text": [
      "Enter a number you want to check: -9\n",
      "Number is negative\n"
     ]
    }
   ],
   "source": [
    "#To check if a number is positive, negative or zero\n",
    "a= float(input(\"Enter a number you want to check: \"))\n",
    "if a>0:\n",
    "    print(\"Number is positive.\")\n",
    "elif a==0:\n",
    "    print(\"Number is zero.\")\n",
    "else:\n",
    "    print(\"Number is negative\")"
   ]
  },
  {
   "cell_type": "code",
   "execution_count": 8,
   "metadata": {},
   "outputs": [
    {
     "name": "stdout",
     "output_type": "stream",
     "text": [
      "Enter the number you want to check: 23233333\n",
      "Odd\n"
     ]
    }
   ],
   "source": [
    "#Check if a number is odd or even\n",
    "a=float(input(\"Enter the number you want to check: \"))\n",
    "if a%2==0:\n",
    "    print(\"Even\")\n",
    "else:\n",
    "    print(\"Odd\")"
   ]
  },
  {
   "cell_type": "code",
   "execution_count": 27,
   "metadata": {},
   "outputs": [
    {
     "name": "stdout",
     "output_type": "stream",
     "text": [
      "Enter the year you want to check: 2021\n",
      "not leap year\n"
     ]
    }
   ],
   "source": [
    "#Check Leap Year\n",
    "a=int(input(\"Enter the year you want to check: \"))\n",
    "if (a%4==0):\n",
    "    print(\"Leap year.\")\n",
    "elif a%100==0:\n",
    "    if a%400==0:\n",
    "        print(\"leap year.\")\n",
    "    else:\n",
    "        print(\"not leap year.\")\n",
    "else:\n",
    "    print(\"not leap year\")"
   ]
  },
  {
   "cell_type": "code",
   "execution_count": null,
   "metadata": {},
   "outputs": [],
   "source": []
  }
 ],
 "metadata": {
  "kernelspec": {
   "display_name": "Python 3",
   "language": "python",
   "name": "python3"
  },
  "language_info": {
   "codemirror_mode": {
    "name": "ipython",
    "version": 3
   },
   "file_extension": ".py",
   "mimetype": "text/x-python",
   "name": "python",
   "nbconvert_exporter": "python",
   "pygments_lexer": "ipython3",
   "version": "3.7.6"
  }
 },
 "nbformat": 4,
 "nbformat_minor": 4
}
