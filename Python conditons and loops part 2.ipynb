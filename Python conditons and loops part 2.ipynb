{
 "cells": [
  {
   "cell_type": "code",
   "execution_count": 18,
   "metadata": {},
   "outputs": [
    {
     "name": "stdout",
     "output_type": "stream",
     "text": [
      "Enter the number you want to check= 44\n",
      "Not prime.\n"
     ]
    }
   ],
   "source": [
    "#to check prime number\n",
    "n=int(input(\"Enter the number you want to check= \"))\n",
    "if n>1:\n",
    "    for i in range(2,n):\n",
    "        if (n%i)==0:\n",
    "            print(\"Not prime.\")\n",
    "            break\n",
    "        else:\n",
    "            print(\"Prime.\")\n",
    "            break\n",
    "elif n==0:\n",
    "    print(\"You have entered zero which is a whole number.\")\n",
    "else:\n",
    "    print(\"Invalid input.\")"
   ]
  },
  {
   "cell_type": "code",
   "execution_count": 28,
   "metadata": {},
   "outputs": [
    {
     "name": "stdout",
     "output_type": "stream",
     "text": [
      "Enter the starting point. 1\n",
      "Enter the ending point. 10\n",
      "2\n",
      "3\n",
      "5\n",
      "7\n"
     ]
    }
   ],
   "source": [
    "#print all prime numbers in an interaval\n",
    "n=int(input(\"Enter the starting point. \"))\n",
    "m=int(input(\"Enter the ending point. \"))\n",
    "for i in range(n,m+1):\n",
    "    if i>1:\n",
    "        for j in range(2,i):\n",
    "            if (i%j)==0:\n",
    "                break\n",
    "        else:   \n",
    "            print(i)\n",
    "            #break"
   ]
  },
  {
   "cell_type": "code",
   "execution_count": 33,
   "metadata": {},
   "outputs": [
    {
     "name": "stdout",
     "output_type": "stream",
     "text": [
      "Enter the number: 6\n",
      "720\n"
     ]
    }
   ],
   "source": [
    "#find factorial of a number\n",
    "n=int(input(\"Enter the number: \"))\n",
    "for i in range(1,n):\n",
    "    n=i*n\n",
    "print(n)"
   ]
  },
  {
   "cell_type": "code",
   "execution_count": 35,
   "metadata": {},
   "outputs": [
    {
     "name": "stdout",
     "output_type": "stream",
     "text": [
      "Enter the number: 7\n",
      "The table is: \n",
      "7 * 1 = 7\n",
      "7 * 2 = 14\n",
      "7 * 3 = 21\n",
      "7 * 4 = 28\n",
      "7 * 5 = 35\n",
      "7 * 6 = 42\n",
      "7 * 7 = 49\n",
      "7 * 8 = 56\n",
      "7 * 9 = 63\n",
      "7 * 10 = 70\n"
     ]
    }
   ],
   "source": [
    "#display the multiplication table\n",
    "n=int(input(\"Enter the number: \"))\n",
    "print(\"The table is: \")\n",
    "for i in range (1,11):\n",
    "    print(n,\"*\",i,\"=\",(n*i))"
   ]
  },
  {
   "cell_type": "code",
   "execution_count": null,
   "metadata": {},
   "outputs": [],
   "source": []
  }
 ],
 "metadata": {
  "kernelspec": {
   "display_name": "Python 3",
   "language": "python",
   "name": "python3"
  },
  "language_info": {
   "codemirror_mode": {
    "name": "ipython",
    "version": 3
   },
   "file_extension": ".py",
   "mimetype": "text/x-python",
   "name": "python",
   "nbconvert_exporter": "python",
   "pygments_lexer": "ipython3",
   "version": "3.7.6"
  }
 },
 "nbformat": 4,
 "nbformat_minor": 4
}
